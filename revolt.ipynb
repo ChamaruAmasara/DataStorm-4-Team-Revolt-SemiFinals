{
 "cells": [
  {
   "attachments": {},
   "cell_type": "markdown",
   "metadata": {},
   "source": [
    "# **Data Import**\n",
    "\n",
    "Importing the necessary libraries and data"
   ]
  },
  {
   "cell_type": "code",
   "execution_count": 10,
   "metadata": {
    "ExecuteTime": {
     "end_time": "2023-05-04T17:03:03.818063Z",
     "start_time": "2023-05-04T17:03:03.812583Z"
    }
   },
   "outputs": [],
   "source": [
    "import pandas as pd\n",
    "import numpy as np\n",
    "from sklearn.cluster import KMeans\n",
    "from sklearn.preprocessing import StandardScaler\n",
    "from sklearn.metrics import silhouette_score, davies_bouldin_score, calinski_harabasz_score"
   ]
  },
  {
   "cell_type": "code",
   "execution_count": 11,
   "metadata": {
    "ExecuteTime": {
     "end_time": "2023-05-04T17:10:35.534021Z",
     "start_time": "2023-05-04T17:10:35.500316Z"
    }
   },
   "outputs": [],
   "source": [
    "# Load the data\n",
    "sales_data = pd.read_csv('data/sales_data.csv')\n",
    "outlet_data = pd.read_csv('data/outlets_data.csv')\n",
    "product_data = pd.read_csv('data/product_data.csv')\n",
    "week_data = pd.read_csv('data/week_data.csv')\n",
    "freezer_data = pd.read_csv('data/freezer_data.csv')"
   ]
  },
  {
   "cell_type": "markdown",
   "metadata": {
    "collapsed": false
   },
   "source": [
    "Let's try to have a breif look at these data"
   ]
  },
  {
   "cell_type": "code",
   "execution_count": 12,
   "metadata": {
    "collapsed": false
   },
   "outputs": [
    {
     "data": {
      "text/html": [
       "<div>\n",
       "<style scoped>\n",
       "    .dataframe tbody tr th:only-of-type {\n",
       "        vertical-align: middle;\n",
       "    }\n",
       "\n",
       "    .dataframe tbody tr th {\n",
       "        vertical-align: top;\n",
       "    }\n",
       "\n",
       "    .dataframe thead th {\n",
       "        text-align: right;\n",
       "    }\n",
       "</style>\n",
       "<table border=\"1\" class=\"dataframe\">\n",
       "  <thead>\n",
       "    <tr style=\"text-align: right;\">\n",
       "      <th></th>\n",
       "      <th>Outlet_ID</th>\n",
       "      <th>week</th>\n",
       "      <th>pid</th>\n",
       "      <th>product_name</th>\n",
       "      <th>no_units</th>\n",
       "    </tr>\n",
       "  </thead>\n",
       "  <tbody>\n",
       "    <tr>\n",
       "      <th>0</th>\n",
       "      <td>ID7203</td>\n",
       "      <td>1</td>\n",
       "      <td>IP1</td>\n",
       "      <td>Vanilla Mini Cone</td>\n",
       "      <td>874.0</td>\n",
       "    </tr>\n",
       "    <tr>\n",
       "      <th>1</th>\n",
       "      <td>ID7203</td>\n",
       "      <td>1</td>\n",
       "      <td>IP2</td>\n",
       "      <td>Chocolate Petite Bar</td>\n",
       "      <td>105.0</td>\n",
       "    </tr>\n",
       "    <tr>\n",
       "      <th>2</th>\n",
       "      <td>ID7203</td>\n",
       "      <td>1</td>\n",
       "      <td>IP3</td>\n",
       "      <td>Strawberry Tiny Cup</td>\n",
       "      <td>1198.0</td>\n",
       "    </tr>\n",
       "    <tr>\n",
       "      <th>3</th>\n",
       "      <td>ID7203</td>\n",
       "      <td>1</td>\n",
       "      <td>IP4</td>\n",
       "      <td>Mint Bite-size Pop</td>\n",
       "      <td>502.0</td>\n",
       "    </tr>\n",
       "    <tr>\n",
       "      <th>4</th>\n",
       "      <td>ID7203</td>\n",
       "      <td>1</td>\n",
       "      <td>IP5</td>\n",
       "      <td>Butter Pecan Small Stick</td>\n",
       "      <td>710.0</td>\n",
       "    </tr>\n",
       "  </tbody>\n",
       "</table>\n",
       "</div>"
      ],
      "text/plain": [
       "  Outlet_ID  week  pid              product_name  no_units\n",
       "0    ID7203     1  IP1         Vanilla Mini Cone     874.0\n",
       "1    ID7203     1  IP2      Chocolate Petite Bar     105.0\n",
       "2    ID7203     1  IP3       Strawberry Tiny Cup    1198.0\n",
       "3    ID7203     1  IP4        Mint Bite-size Pop     502.0\n",
       "4    ID7203     1  IP5  Butter Pecan Small Stick     710.0"
      ]
     },
     "execution_count": 12,
     "metadata": {},
     "output_type": "execute_result"
    }
   ],
   "source": [
    "sales_data.head()"
   ]
  },
  {
   "cell_type": "code",
   "execution_count": 14,
   "metadata": {},
   "outputs": [
    {
     "data": {
      "text/html": [
       "<div>\n",
       "<style scoped>\n",
       "    .dataframe tbody tr th:only-of-type {\n",
       "        vertical-align: middle;\n",
       "    }\n",
       "\n",
       "    .dataframe tbody tr th {\n",
       "        vertical-align: top;\n",
       "    }\n",
       "\n",
       "    .dataframe thead th {\n",
       "        text-align: right;\n",
       "    }\n",
       "</style>\n",
       "<table border=\"1\" class=\"dataframe\">\n",
       "  <thead>\n",
       "    <tr style=\"text-align: right;\">\n",
       "      <th></th>\n",
       "      <th>Outlet_ID</th>\n",
       "      <th>area(sqft)</th>\n",
       "    </tr>\n",
       "  </thead>\n",
       "  <tbody>\n",
       "    <tr>\n",
       "      <th>0</th>\n",
       "      <td>ID7203</td>\n",
       "      <td>5660</td>\n",
       "    </tr>\n",
       "    <tr>\n",
       "      <th>1</th>\n",
       "      <td>ID1878</td>\n",
       "      <td>4138</td>\n",
       "    </tr>\n",
       "    <tr>\n",
       "      <th>2</th>\n",
       "      <td>ID1740</td>\n",
       "      <td>5546</td>\n",
       "    </tr>\n",
       "    <tr>\n",
       "      <th>3</th>\n",
       "      <td>ID4366</td>\n",
       "      <td>5134</td>\n",
       "    </tr>\n",
       "    <tr>\n",
       "      <th>4</th>\n",
       "      <td>ID8358</td>\n",
       "      <td>4100</td>\n",
       "    </tr>\n",
       "  </tbody>\n",
       "</table>\n",
       "</div>"
      ],
      "text/plain": [
       "  Outlet_ID  area(sqft)\n",
       "0    ID7203        5660\n",
       "1    ID1878        4138\n",
       "2    ID1740        5546\n",
       "3    ID4366        5134\n",
       "4    ID8358        4100"
      ]
     },
     "execution_count": 14,
     "metadata": {},
     "output_type": "execute_result"
    }
   ],
   "source": [
    "outlet_data.head()"
   ]
  },
  {
   "cell_type": "code",
   "execution_count": 15,
   "metadata": {},
   "outputs": [
    {
     "data": {
      "text/html": [
       "<div>\n",
       "<style scoped>\n",
       "    .dataframe tbody tr th:only-of-type {\n",
       "        vertical-align: middle;\n",
       "    }\n",
       "\n",
       "    .dataframe tbody tr th {\n",
       "        vertical-align: top;\n",
       "    }\n",
       "\n",
       "    .dataframe thead th {\n",
       "        text-align: right;\n",
       "    }\n",
       "</style>\n",
       "<table border=\"1\" class=\"dataframe\">\n",
       "  <thead>\n",
       "    <tr style=\"text-align: right;\">\n",
       "      <th></th>\n",
       "      <th>pid</th>\n",
       "      <th>volume</th>\n",
       "      <th>product_name</th>\n",
       "      <th>price</th>\n",
       "    </tr>\n",
       "  </thead>\n",
       "  <tbody>\n",
       "    <tr>\n",
       "      <th>0</th>\n",
       "      <td>IP1</td>\n",
       "      <td>0.2</td>\n",
       "      <td>Vanilla Mini Cone</td>\n",
       "      <td>100</td>\n",
       "    </tr>\n",
       "    <tr>\n",
       "      <th>1</th>\n",
       "      <td>IP2</td>\n",
       "      <td>0.2</td>\n",
       "      <td>Chocolate Petite Bar</td>\n",
       "      <td>90</td>\n",
       "    </tr>\n",
       "    <tr>\n",
       "      <th>2</th>\n",
       "      <td>IP3</td>\n",
       "      <td>0.2</td>\n",
       "      <td>Strawberry Tiny Cup</td>\n",
       "      <td>110</td>\n",
       "    </tr>\n",
       "    <tr>\n",
       "      <th>3</th>\n",
       "      <td>IP4</td>\n",
       "      <td>0.2</td>\n",
       "      <td>Mint Bite-size Pop</td>\n",
       "      <td>100</td>\n",
       "    </tr>\n",
       "    <tr>\n",
       "      <th>4</th>\n",
       "      <td>IP5</td>\n",
       "      <td>0.2</td>\n",
       "      <td>Butter Pecan Small Stick</td>\n",
       "      <td>100</td>\n",
       "    </tr>\n",
       "  </tbody>\n",
       "</table>\n",
       "</div>"
      ],
      "text/plain": [
       "   pid  volume              product_name  price\n",
       "0  IP1     0.2         Vanilla Mini Cone    100\n",
       "1  IP2     0.2      Chocolate Petite Bar     90\n",
       "2  IP3     0.2       Strawberry Tiny Cup    110\n",
       "3  IP4     0.2        Mint Bite-size Pop    100\n",
       "4  IP5     0.2  Butter Pecan Small Stick    100"
      ]
     },
     "execution_count": 15,
     "metadata": {},
     "output_type": "execute_result"
    }
   ],
   "source": [
    "product_data.head()"
   ]
  },
  {
   "cell_type": "code",
   "execution_count": 16,
   "metadata": {},
   "outputs": [
    {
     "data": {
      "text/html": [
       "<div>\n",
       "<style scoped>\n",
       "    .dataframe tbody tr th:only-of-type {\n",
       "        vertical-align: middle;\n",
       "    }\n",
       "\n",
       "    .dataframe tbody tr th {\n",
       "        vertical-align: top;\n",
       "    }\n",
       "\n",
       "    .dataframe thead th {\n",
       "        text-align: right;\n",
       "    }\n",
       "</style>\n",
       "<table border=\"1\" class=\"dataframe\">\n",
       "  <thead>\n",
       "    <tr style=\"text-align: right;\">\n",
       "      <th></th>\n",
       "      <th>Week</th>\n",
       "      <th>Start Date</th>\n",
       "      <th>End Date</th>\n",
       "    </tr>\n",
       "  </thead>\n",
       "  <tbody>\n",
       "    <tr>\n",
       "      <th>0</th>\n",
       "      <td>Week 1</td>\n",
       "      <td>1/2/2023</td>\n",
       "      <td>1/8/2023</td>\n",
       "    </tr>\n",
       "    <tr>\n",
       "      <th>1</th>\n",
       "      <td>Week 2</td>\n",
       "      <td>1/9/2023</td>\n",
       "      <td>1/15/2023</td>\n",
       "    </tr>\n",
       "    <tr>\n",
       "      <th>2</th>\n",
       "      <td>Week 3</td>\n",
       "      <td>1/16/2023</td>\n",
       "      <td>1/22/2023</td>\n",
       "    </tr>\n",
       "    <tr>\n",
       "      <th>3</th>\n",
       "      <td>Week 4</td>\n",
       "      <td>1/23/2023</td>\n",
       "      <td>1/29/2023</td>\n",
       "    </tr>\n",
       "    <tr>\n",
       "      <th>4</th>\n",
       "      <td>Week 5</td>\n",
       "      <td>1/30/2023</td>\n",
       "      <td>2/5/2023</td>\n",
       "    </tr>\n",
       "  </tbody>\n",
       "</table>\n",
       "</div>"
      ],
      "text/plain": [
       "     Week Start Date   End Date\n",
       "0  Week 1   1/2/2023   1/8/2023\n",
       "1  Week 2   1/9/2023  1/15/2023\n",
       "2  Week 3  1/16/2023  1/22/2023\n",
       "3  Week 4  1/23/2023  1/29/2023\n",
       "4  Week 5  1/30/2023   2/5/2023"
      ]
     },
     "execution_count": 16,
     "metadata": {},
     "output_type": "execute_result"
    }
   ],
   "source": [
    "week_data.head()"
   ]
  },
  {
   "cell_type": "code",
   "execution_count": 18,
   "metadata": {},
   "outputs": [
    {
     "data": {
      "text/html": [
       "<div>\n",
       "<style scoped>\n",
       "    .dataframe tbody tr th:only-of-type {\n",
       "        vertical-align: middle;\n",
       "    }\n",
       "\n",
       "    .dataframe tbody tr th {\n",
       "        vertical-align: top;\n",
       "    }\n",
       "\n",
       "    .dataframe thead th {\n",
       "        text-align: right;\n",
       "    }\n",
       "</style>\n",
       "<table border=\"1\" class=\"dataframe\">\n",
       "  <thead>\n",
       "    <tr style=\"text-align: right;\">\n",
       "      <th></th>\n",
       "      <th>Freezer Name</th>\n",
       "      <th>Model Number</th>\n",
       "      <th>Volume Capacity (Liters)</th>\n",
       "      <th>Power and maitainance Cost (LKR) per 100 hours</th>\n",
       "    </tr>\n",
       "  </thead>\n",
       "  <tbody>\n",
       "    <tr>\n",
       "      <th>0</th>\n",
       "      <td>ChillMaster</td>\n",
       "      <td>M001</td>\n",
       "      <td>55</td>\n",
       "      <td>2500</td>\n",
       "    </tr>\n",
       "    <tr>\n",
       "      <th>1</th>\n",
       "      <td>FreezeZone</td>\n",
       "      <td>M002</td>\n",
       "      <td>75</td>\n",
       "      <td>2800</td>\n",
       "    </tr>\n",
       "    <tr>\n",
       "      <th>2</th>\n",
       "      <td>CoolTech</td>\n",
       "      <td>M003</td>\n",
       "      <td>120</td>\n",
       "      <td>3200</td>\n",
       "    </tr>\n",
       "    <tr>\n",
       "      <th>3</th>\n",
       "      <td>mini CoolTech</td>\n",
       "      <td>M004</td>\n",
       "      <td>30</td>\n",
       "      <td>1800</td>\n",
       "    </tr>\n",
       "    <tr>\n",
       "      <th>4</th>\n",
       "      <td>IceBlast Pro</td>\n",
       "      <td>M005</td>\n",
       "      <td>150</td>\n",
       "      <td>3500</td>\n",
       "    </tr>\n",
       "  </tbody>\n",
       "</table>\n",
       "</div>"
      ],
      "text/plain": [
       "    Freezer Name Model Number  Volume Capacity (Liters)  \\\n",
       "0    ChillMaster         M001                        55   \n",
       "1     FreezeZone         M002                        75   \n",
       "2       CoolTech         M003                       120   \n",
       "3  mini CoolTech         M004                        30   \n",
       "4   IceBlast Pro         M005                       150   \n",
       "\n",
       "   Power and maitainance Cost (LKR) per 100 hours  \n",
       "0                                            2500  \n",
       "1                                            2800  \n",
       "2                                            3200  \n",
       "3                                            1800  \n",
       "4                                            3500  "
      ]
     },
     "execution_count": 18,
     "metadata": {},
     "output_type": "execute_result"
    }
   ],
   "source": [
    "freezer_data.head()"
   ]
  },
  {
   "attachments": {},
   "cell_type": "markdown",
   "metadata": {},
   "source": [
    "# **Preprocess the Data**"
   ]
  },
  {
   "attachments": {},
   "cell_type": "markdown",
   "metadata": {},
   "source": [
    "Let's enrich the outlets_data with \n",
    "1.   Outlet Size\n",
    "2.   Outlet Space Availability\n",
    "3.   Outlet Sales\n",
    "4.   Outlet Location"
   ]
  },
  {
   "cell_type": "code",
   "execution_count": null,
   "metadata": {},
   "outputs": [],
   "source": []
  },
  {
   "cell_type": "code",
   "execution_count": 13,
   "metadata": {},
   "outputs": [
    {
     "name": "stderr",
     "output_type": "stream",
     "text": [
      "/Users/chamaru/anaconda3/lib/python3.10/site-packages/sklearn/cluster/_kmeans.py:870: FutureWarning: The default value of `n_init` will change from 10 to 'auto' in 1.4. Set the value of `n_init` explicitly to suppress the warning\n",
      "  warnings.warn(\n",
      "/Users/chamaru/anaconda3/lib/python3.10/site-packages/sklearn/cluster/_kmeans.py:870: FutureWarning: The default value of `n_init` will change from 10 to 'auto' in 1.4. Set the value of `n_init` explicitly to suppress the warning\n",
      "  warnings.warn(\n",
      "/Users/chamaru/anaconda3/lib/python3.10/site-packages/sklearn/cluster/_kmeans.py:870: FutureWarning: The default value of `n_init` will change from 10 to 'auto' in 1.4. Set the value of `n_init` explicitly to suppress the warning\n",
      "  warnings.warn(\n",
      "/Users/chamaru/anaconda3/lib/python3.10/site-packages/sklearn/cluster/_kmeans.py:870: FutureWarning: The default value of `n_init` will change from 10 to 'auto' in 1.4. Set the value of `n_init` explicitly to suppress the warning\n",
      "  warnings.warn(\n",
      "/Users/chamaru/anaconda3/lib/python3.10/site-packages/sklearn/cluster/_kmeans.py:870: FutureWarning: The default value of `n_init` will change from 10 to 'auto' in 1.4. Set the value of `n_init` explicitly to suppress the warning\n",
      "  warnings.warn(\n",
      "/Users/chamaru/anaconda3/lib/python3.10/site-packages/sklearn/cluster/_kmeans.py:870: FutureWarning: The default value of `n_init` will change from 10 to 'auto' in 1.4. Set the value of `n_init` explicitly to suppress the warning\n",
      "  warnings.warn(\n",
      "/Users/chamaru/anaconda3/lib/python3.10/site-packages/sklearn/cluster/_kmeans.py:870: FutureWarning: The default value of `n_init` will change from 10 to 'auto' in 1.4. Set the value of `n_init` explicitly to suppress the warning\n",
      "  warnings.warn(\n",
      "/Users/chamaru/anaconda3/lib/python3.10/site-packages/sklearn/cluster/_kmeans.py:870: FutureWarning: The default value of `n_init` will change from 10 to 'auto' in 1.4. Set the value of `n_init` explicitly to suppress the warning\n",
      "  warnings.warn(\n",
      "/Users/chamaru/anaconda3/lib/python3.10/site-packages/sklearn/cluster/_kmeans.py:870: FutureWarning: The default value of `n_init` will change from 10 to 'auto' in 1.4. Set the value of `n_init` explicitly to suppress the warning\n",
      "  warnings.warn(\n"
     ]
    },
    {
     "name": "stdout",
     "output_type": "stream",
     "text": [
      "Inertia: 828.3149747453526\n",
      "Silhouette Coefficient: 0.556478938441641\n",
      "Davies-Bouldin Index: 0.7194786429426779\n",
      "Calinski-Harabasz Index: 1366.2020332727245\n",
      "\n",
      "Recommended Freezers:\n",
      "   cluster Freezer Name Model Number\n",
      "0        0          NaN          NaN\n",
      "1        1          NaN          NaN\n"
     ]
    },
    {
     "name": "stderr",
     "output_type": "stream",
     "text": [
      "/Users/chamaru/anaconda3/lib/python3.10/site-packages/sklearn/cluster/_kmeans.py:870: FutureWarning: The default value of `n_init` will change from 10 to 'auto' in 1.4. Set the value of `n_init` explicitly to suppress the warning\n",
      "  warnings.warn(\n"
     ]
    }
   ],
   "source": [
    "# Data preprocessing\n",
    "sales_data = sales_data.merge(product_data, on='pid', how='left')\n",
    "sales_data['total_volume'] = sales_data['no_units'] * sales_data['volume']\n",
    "outlet_sales = sales_data.groupby('Outlet_ID')['total_volume'].sum().reset_index()\n",
    "outlet_sales = outlet_sales.merge(outlet_data, on='Outlet_ID', how='left')\n",
    "\n",
    "# Perform store segmentation\n",
    "X = outlet_sales[['total_volume', 'area(sqft)']]\n",
    "scaler = StandardScaler()\n",
    "X_scaled = scaler.fit_transform(X)\n",
    "\n",
    "# Find the optimal number of clusters\n",
    "scores = []\n",
    "for k in range(2, 11):\n",
    "    kmeans = KMeans(n_clusters=k, random_state=42)\n",
    "    kmeans.fit(X_scaled)\n",
    "    scores.append(silhouette_score(X_scaled, kmeans.labels_))\n",
    "\n",
    "optimal_k = np.argmax(scores) + 2\n",
    "\n",
    "# Fit the KMeans model with optimal number of clusters\n",
    "kmeans = KMeans(n_clusters=optimal_k, random_state=42)\n",
    "kmeans.fit(X_scaled)\n",
    "outlet_sales['cluster'] = kmeans.labels_\n",
    "\n",
    "# Calculate metrics and recommend suitable freezer types\n",
    "def calculate_roi_metrics(cluster_df):\n",
    "    roi_metrics = []\n",
    "    for _, row in freezer_data.iterrows():\n",
    "        cluster_df['estimated_sales_volume'] = (cluster_df['total_volume'] * row['Volume Capacity (Liters)']) / cluster_df['area(sqft)']\n",
    "        cluster_df['roi'] = cluster_df['estimated_sales_volume'] / (row['Power and maitainance Cost (LKR) per 100 hours'] + row['Volume Capacity (Liters)'])\n",
    "        roi = cluster_df['roi'].mean()\n",
    "        roi_metrics.append((row['Model Number'], roi))\n",
    "\n",
    "    return sorted(roi_metrics, key=lambda x: x[1], reverse=True)[0]\n",
    "\n",
    "recommended_freezers = outlet_sales.groupby('cluster').apply(calculate_roi_metrics).reset_index(name='recommended_freezer')\n",
    "recommended_freezers = recommended_freezers.merge(freezer_data, left_on='recommended_freezer', right_on='Model Number', how='left')\n",
    "\n",
    "# Evaluation metrics\n",
    "inertia = kmeans.inertia_\n",
    "silhouette = silhouette_score(X_scaled, kmeans.labels_)\n",
    "davies_bouldin = davies_bouldin_score(X_scaled, kmeans.labels_)\n",
    "calinski_harabasz = calinski_harabasz_score(X_scaled, kmeans.labels_)\n",
    "\n",
    "print(\"Inertia:\", inertia)\n",
    "print(\"Silhouette Coefficient:\", silhouette)\n",
    "print(\"Davies-Bouldin Index:\", davies_bouldin)\n",
    "print(\"Calinski-Harabasz Index:\", calinski_harabasz)\n",
    "print(\"\\nRecommended Freezers:\")\n",
    "print(recommended_freezers[['cluster', 'Freezer Name', 'Model Number']])\n"
   ]
  }
 ],
 "metadata": {
  "kernelspec": {
   "display_name": "Python 3 (ipykernel)",
   "language": "python",
   "name": "python3"
  },
  "language_info": {
   "codemirror_mode": {
    "name": "ipython",
    "version": 3
   },
   "file_extension": ".py",
   "mimetype": "text/x-python",
   "name": "python",
   "nbconvert_exporter": "python",
   "pygments_lexer": "ipython3",
   "version": "3.10.9"
  },
  "orig_nbformat": 4
 },
 "nbformat": 4,
 "nbformat_minor": 2
}
